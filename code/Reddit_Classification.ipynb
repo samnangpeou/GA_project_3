{
 "cells": [
  {
   "cell_type": "markdown",
   "metadata": {},
   "source": [
    "# EDA: Marvel Studios v. Marvel Comics"
   ]
  },
  {
   "cell_type": "markdown",
   "metadata": {},
   "source": [
    "## Problem Statement"
   ]
  },
  {
   "cell_type": "markdown",
   "metadata": {},
   "source": [
    "Using data between two subreddits on Reddit, would a Multinomial Naive Bayes model perform better than a Support Vector Machines model to predict which post belonged to the correct subreddit?"
   ]
  },
  {
   "cell_type": "markdown",
   "metadata": {},
   "source": [
    "## Table of Contents"
   ]
  },
  {
   "cell_type": "markdown",
   "metadata": {},
   "source": [
    "* [Introduce Datasets](#first-bullet)\n",
    "* [Exploratory Data Analysis](#second-bullet)\n",
    "* [Setting Up Data Modeling](#third-bullet)\n",
    "* [Baseline Accuracy](#fourth-bullet)\n",
    "* [Modeling with CountVect and Multinomial Naive Bayes](#fifth-bullet)\n",
    "* [Modeling with TfidfVect and Logistic Regression](#sixth-bullet)\n",
    "* [Executive Summary](#eighth-bullet)"
   ]
  },
  {
   "cell_type": "code",
   "execution_count": 3,
   "metadata": {},
   "outputs": [],
   "source": [
    "#imports\n",
    "\n",
    "import pandas as pd\n",
    "import matplotlib.pyplot as plt\n",
    "import numpy as np\n",
    "import seaborn as sns\n",
    "from sklearn.model_selection import train_test_split, GridSearchCV\n",
    "from sklearn.pipeline import Pipeline\n",
    "from sklearn.naive_bayes import MultinomialNB\n",
    "from sklearn.linear_model import LogisticRegression\n",
    "from sklearn.metrics import confusion_matrix, plot_confusion_matrix\n",
    "from sklearn.preprocessing import StandardScaler\n",
    "from sklearn.svm import SVC\n",
    "\n",
    "# Import CountVectorizer and TFIDFVectorizer from feature_extraction.text.\n",
    "\n",
    "from sklearn.feature_extraction.text import CountVectorizer, TfidfVectorizer\n",
    "from sklearn.feature_extraction import text \n",
    "\n",
    "# Import tokenizers and regex\n",
    "\n",
    "from nltk.tokenize import sent_tokenize, word_tokenize, RegexpTokenizer\n",
    "from nltk.stem import WordNetLemmatizer\n",
    "from nltk.stem.porter import PorterStemmer\n",
    "from nltk.corpus import stopwords\n",
    "from nltk.sentiment.vader import SentimentIntensityAnalyzer\n",
    "import re     # Python package for regular expressions"
   ]
  },
  {
   "cell_type": "markdown",
   "metadata": {},
   "source": [
    "## Introduce Datasets <a class=\"anchor\" id=\"first-bullet\"></a>"
   ]
  },
  {
   "cell_type": "code",
   "execution_count": 4,
   "metadata": {},
   "outputs": [],
   "source": [
    "#Read Data\n",
    "marvel_url = 'https://raw.git.generalassemb.ly/sampeou/project_3/master/data/marvel_reddit.csv?token=AAAICLGEPKMJGGQ3MBCP2ITADZVOI'\n",
    "marvelstudios_url = 'https://raw.git.generalassemb.ly/sampeou/project_3/master/data/marvelstudios_reddit.csv?token=AAAICLBX4WXGGPXNBY6FCU3ADZVRC'\n",
    "marvel = pd.read_csv(marvel_url, lineterminator='\\n')\n",
    "studios = pd.read_csv(marvelstudios_url,lineterminator='\\n')"
   ]
  },
  {
   "cell_type": "code",
   "execution_count": 3,
   "metadata": {},
   "outputs": [
    {
     "data": {
      "text/html": [
       "<div>\n",
       "<style scoped>\n",
       "    .dataframe tbody tr th:only-of-type {\n",
       "        vertical-align: middle;\n",
       "    }\n",
       "\n",
       "    .dataframe tbody tr th {\n",
       "        vertical-align: top;\n",
       "    }\n",
       "\n",
       "    .dataframe thead th {\n",
       "        text-align: right;\n",
       "    }\n",
       "</style>\n",
       "<table border=\"1\" class=\"dataframe\">\n",
       "  <thead>\n",
       "    <tr style=\"text-align: right;\">\n",
       "      <th></th>\n",
       "      <th>Unnamed: 0</th>\n",
       "      <th>title</th>\n",
       "      <th>selftext</th>\n",
       "      <th>subreddit</th>\n",
       "      <th>created_utc</th>\n",
       "      <th>author</th>\n",
       "      <th>num_comments</th>\n",
       "      <th>score</th>\n",
       "      <th>is_self</th>\n",
       "      <th>timestamp</th>\n",
       "    </tr>\n",
       "  </thead>\n",
       "  <tbody>\n",
       "    <tr>\n",
       "      <th>0</th>\n",
       "      <td>0</td>\n",
       "      <td>Are there any marvel characters that have the ...</td>\n",
       "      <td>I tried to google it but it kept saying dc and...</td>\n",
       "      <td>Marvel</td>\n",
       "      <td>1611023005</td>\n",
       "      <td>just-another-fan</td>\n",
       "      <td>8</td>\n",
       "      <td>1</td>\n",
       "      <td>True</td>\n",
       "      <td>2021-01-18</td>\n",
       "    </tr>\n",
       "    <tr>\n",
       "      <th>1</th>\n",
       "      <td>1</td>\n",
       "      <td>Avengers Endgame and masonic meanings</td>\n",
       "      <td>First you have to know the pyramid and all see...</td>\n",
       "      <td>Marvel</td>\n",
       "      <td>1611024089</td>\n",
       "      <td>yotta_e</td>\n",
       "      <td>3</td>\n",
       "      <td>1</td>\n",
       "      <td>True</td>\n",
       "      <td>2021-01-18</td>\n",
       "    </tr>\n",
       "    <tr>\n",
       "      <th>2</th>\n",
       "      <td>2</td>\n",
       "      <td>Does thor have the odinforce since becoming al...</td>\n",
       "      <td>NaN</td>\n",
       "      <td>Marvel</td>\n",
       "      <td>1611025030</td>\n",
       "      <td>abseedypetey123</td>\n",
       "      <td>3</td>\n",
       "      <td>1</td>\n",
       "      <td>True</td>\n",
       "      <td>2021-01-18</td>\n",
       "    </tr>\n",
       "    <tr>\n",
       "      <th>3</th>\n",
       "      <td>3</td>\n",
       "      <td>How do the story’s of death of Deadpool and De...</td>\n",
       "      <td>Both story’s build off his daughter Ellie and ...</td>\n",
       "      <td>Marvel</td>\n",
       "      <td>1611028099</td>\n",
       "      <td>meggamatty64</td>\n",
       "      <td>1</td>\n",
       "      <td>1</td>\n",
       "      <td>True</td>\n",
       "      <td>2021-01-18</td>\n",
       "    </tr>\n",
       "    <tr>\n",
       "      <th>4</th>\n",
       "      <td>4</td>\n",
       "      <td>Why did Doctor Strange open a portal to earth ...</td>\n",
       "      <td>NaN</td>\n",
       "      <td>Marvel</td>\n",
       "      <td>1611028193</td>\n",
       "      <td>boodiboodi</td>\n",
       "      <td>4</td>\n",
       "      <td>1</td>\n",
       "      <td>True</td>\n",
       "      <td>2021-01-18</td>\n",
       "    </tr>\n",
       "  </tbody>\n",
       "</table>\n",
       "</div>"
      ],
      "text/plain": [
       "   Unnamed: 0                                              title  \\\n",
       "0           0  Are there any marvel characters that have the ...   \n",
       "1           1              Avengers Endgame and masonic meanings   \n",
       "2           2  Does thor have the odinforce since becoming al...   \n",
       "3           3  How do the story’s of death of Deadpool and De...   \n",
       "4           4  Why did Doctor Strange open a portal to earth ...   \n",
       "\n",
       "                                            selftext subreddit  created_utc  \\\n",
       "0  I tried to google it but it kept saying dc and...    Marvel   1611023005   \n",
       "1  First you have to know the pyramid and all see...    Marvel   1611024089   \n",
       "2                                                NaN    Marvel   1611025030   \n",
       "3  Both story’s build off his daughter Ellie and ...    Marvel   1611028099   \n",
       "4                                                NaN    Marvel   1611028193   \n",
       "\n",
       "             author  num_comments  score  is_self   timestamp  \n",
       "0  just-another-fan             8      1     True  2021-01-18  \n",
       "1           yotta_e             3      1     True  2021-01-18  \n",
       "2   abseedypetey123             3      1     True  2021-01-18  \n",
       "3      meggamatty64             1      1     True  2021-01-18  \n",
       "4        boodiboodi             4      1     True  2021-01-18  "
      ]
     },
     "execution_count": 3,
     "metadata": {},
     "output_type": "execute_result"
    }
   ],
   "source": [
    "# Taking a quick glance at the datasets\n",
    "\n",
    "marvel.head(5)"
   ]
  },
  {
   "cell_type": "code",
   "execution_count": 4,
   "metadata": {},
   "outputs": [
    {
     "data": {
      "text/html": [
       "<div>\n",
       "<style scoped>\n",
       "    .dataframe tbody tr th:only-of-type {\n",
       "        vertical-align: middle;\n",
       "    }\n",
       "\n",
       "    .dataframe tbody tr th {\n",
       "        vertical-align: top;\n",
       "    }\n",
       "\n",
       "    .dataframe thead th {\n",
       "        text-align: right;\n",
       "    }\n",
       "</style>\n",
       "<table border=\"1\" class=\"dataframe\">\n",
       "  <thead>\n",
       "    <tr style=\"text-align: right;\">\n",
       "      <th></th>\n",
       "      <th>Unnamed: 0</th>\n",
       "      <th>title</th>\n",
       "      <th>selftext</th>\n",
       "      <th>subreddit</th>\n",
       "      <th>created_utc</th>\n",
       "      <th>author</th>\n",
       "      <th>num_comments</th>\n",
       "      <th>score</th>\n",
       "      <th>is_self</th>\n",
       "      <th>timestamp</th>\n",
       "    </tr>\n",
       "  </thead>\n",
       "  <tbody>\n",
       "    <tr>\n",
       "      <th>0</th>\n",
       "      <td>0</td>\n",
       "      <td>I dunno if anybody's analyzed the What If trai...</td>\n",
       "      <td>Iron Man what if - unclear, doesn't seem to be...</td>\n",
       "      <td>marvelstudios</td>\n",
       "      <td>1611023557</td>\n",
       "      <td>soldofpol13</td>\n",
       "      <td>15</td>\n",
       "      <td>1</td>\n",
       "      <td>True</td>\n",
       "      <td>2021-01-18</td>\n",
       "    </tr>\n",
       "    <tr>\n",
       "      <th>1</th>\n",
       "      <td>1</td>\n",
       "      <td>Animation Wolverine and the X-Men</td>\n",
       "      <td>Why does this animation only have one season? ...</td>\n",
       "      <td>marvelstudios</td>\n",
       "      <td>1611023710</td>\n",
       "      <td>FancyWonderWoman</td>\n",
       "      <td>2</td>\n",
       "      <td>1</td>\n",
       "      <td>True</td>\n",
       "      <td>2021-01-18</td>\n",
       "    </tr>\n",
       "    <tr>\n",
       "      <th>2</th>\n",
       "      <td>2</td>\n",
       "      <td>My Insane WandaVision Theory, the biblical fut...</td>\n",
       "      <td>I know this is long, but please give it a read...</td>\n",
       "      <td>marvelstudios</td>\n",
       "      <td>1611026896</td>\n",
       "      <td>Dominicsjr</td>\n",
       "      <td>4</td>\n",
       "      <td>1</td>\n",
       "      <td>True</td>\n",
       "      <td>2021-01-18</td>\n",
       "    </tr>\n",
       "    <tr>\n",
       "      <th>3</th>\n",
       "      <td>3</td>\n",
       "      <td>What is your idea for Marvel’s What If?</td>\n",
       "      <td>Marvel’s What If, the animated series set for ...</td>\n",
       "      <td>marvelstudios</td>\n",
       "      <td>1611028242</td>\n",
       "      <td>Super_ChickenNugget1</td>\n",
       "      <td>20</td>\n",
       "      <td>1</td>\n",
       "      <td>True</td>\n",
       "      <td>2021-01-18</td>\n",
       "    </tr>\n",
       "    <tr>\n",
       "      <th>4</th>\n",
       "      <td>4</td>\n",
       "      <td>Wandavision is awesome</td>\n",
       "      <td>I’m loving this show. I have had to rewatch se...</td>\n",
       "      <td>marvelstudios</td>\n",
       "      <td>1611029229</td>\n",
       "      <td>Hasselhoff1</td>\n",
       "      <td>8</td>\n",
       "      <td>1</td>\n",
       "      <td>True</td>\n",
       "      <td>2021-01-18</td>\n",
       "    </tr>\n",
       "  </tbody>\n",
       "</table>\n",
       "</div>"
      ],
      "text/plain": [
       "   Unnamed: 0                                              title  \\\n",
       "0           0  I dunno if anybody's analyzed the What If trai...   \n",
       "1           1                  Animation Wolverine and the X-Men   \n",
       "2           2  My Insane WandaVision Theory, the biblical fut...   \n",
       "3           3            What is your idea for Marvel’s What If?   \n",
       "4           4                             Wandavision is awesome   \n",
       "\n",
       "                                            selftext      subreddit  \\\n",
       "0  Iron Man what if - unclear, doesn't seem to be...  marvelstudios   \n",
       "1  Why does this animation only have one season? ...  marvelstudios   \n",
       "2  I know this is long, but please give it a read...  marvelstudios   \n",
       "3  Marvel’s What If, the animated series set for ...  marvelstudios   \n",
       "4  I’m loving this show. I have had to rewatch se...  marvelstudios   \n",
       "\n",
       "   created_utc                author  num_comments  score  is_self   timestamp  \n",
       "0   1611023557           soldofpol13            15      1     True  2021-01-18  \n",
       "1   1611023710      FancyWonderWoman             2      1     True  2021-01-18  \n",
       "2   1611026896            Dominicsjr             4      1     True  2021-01-18  \n",
       "3   1611028242  Super_ChickenNugget1            20      1     True  2021-01-18  \n",
       "4   1611029229           Hasselhoff1             8      1     True  2021-01-18  "
      ]
     },
     "execution_count": 4,
     "metadata": {},
     "output_type": "execute_result"
    }
   ],
   "source": [
    "studios.head(5)"
   ]
  },
  {
   "cell_type": "markdown",
   "metadata": {},
   "source": [
    "## EDA <a class=\"anchor\" id=\"second-bullet\"></a>"
   ]
  },
  {
   "cell_type": "code",
   "execution_count": 5,
   "metadata": {},
   "outputs": [
    {
     "data": {
      "text/plain": [
       "Unnamed: 0         0\n",
       "title              0\n",
       "selftext        1148\n",
       "subreddit          0\n",
       "created_utc        0\n",
       "author             0\n",
       "num_comments       0\n",
       "score              0\n",
       "is_self            0\n",
       "timestamp          0\n",
       "dtype: int64"
      ]
     },
     "execution_count": 5,
     "metadata": {},
     "output_type": "execute_result"
    }
   ],
   "source": [
    "#Checking for nulls in both datasets\n",
    "\n",
    "marvel.isnull().sum()"
   ]
  },
  {
   "cell_type": "code",
   "execution_count": 6,
   "metadata": {},
   "outputs": [
    {
     "data": {
      "text/plain": [
       "Unnamed: 0         0\n",
       "title              0\n",
       "selftext        1272\n",
       "subreddit          0\n",
       "created_utc        0\n",
       "author             0\n",
       "num_comments       0\n",
       "score              0\n",
       "is_self            0\n",
       "timestamp          0\n",
       "dtype: int64"
      ]
     },
     "execution_count": 6,
     "metadata": {},
     "output_type": "execute_result"
    }
   ],
   "source": [
    "studios.isnull().sum()"
   ]
  },
  {
   "cell_type": "code",
   "execution_count": 7,
   "metadata": {},
   "outputs": [],
   "source": [
    "# Dropping the unwanted columns\n",
    "\n",
    "marvel.drop(columns='Unnamed: 0',inplace=True)\n",
    "studios.drop(columns='Unnamed: 0', inplace=True)"
   ]
  },
  {
   "cell_type": "code",
   "execution_count": 8,
   "metadata": {},
   "outputs": [],
   "source": [
    "# Dropping '[removed]' because they are empty posts\n",
    "\n",
    "marvel.drop(marvel[marvel.selftext == '[removed]'].index,inplace=True)"
   ]
  },
  {
   "cell_type": "code",
   "execution_count": 9,
   "metadata": {},
   "outputs": [],
   "source": [
    "studios.drop(studios[studios.selftext == '[removed]'].index,inplace=True)"
   ]
  },
  {
   "cell_type": "code",
   "execution_count": 10,
   "metadata": {},
   "outputs": [
    {
     "data": {
      "text/plain": [
       "(None, None)"
      ]
     },
     "execution_count": 10,
     "metadata": {},
     "output_type": "execute_result"
    }
   ],
   "source": [
    "marvel.dropna(inplace=True), studios.dropna(inplace=True) # dropping that are in the selftext columns"
   ]
  },
  {
   "cell_type": "code",
   "execution_count": 11,
   "metadata": {},
   "outputs": [
    {
     "data": {
      "text/plain": [
       "((12506, 9), (13363, 9))"
      ]
     },
     "execution_count": 11,
     "metadata": {},
     "output_type": "execute_result"
    }
   ],
   "source": [
    "marvel.shape, studios.shape #rechecking the shape"
   ]
  },
  {
   "cell_type": "code",
   "execution_count": 12,
   "metadata": {},
   "outputs": [],
   "source": [
    "df = pd.concat([marvel, studios], axis=0,ignore_index=True) # merging the two subreddit df's together"
   ]
  },
  {
   "cell_type": "code",
   "execution_count": 13,
   "metadata": {},
   "outputs": [],
   "source": [
    "df['selftext_length'] = df['selftext'].str.len() # adding column of char count\n",
    "df['title_length'] = df['title'].str.len()\n",
    "df['selftext_word_count'] = df['selftext'].str.split().apply(len) # adding a column for word count\n",
    "df['title_word_count'] = df['title'].str.split().apply(len)"
   ]
  },
  {
   "cell_type": "code",
   "execution_count": 14,
   "metadata": {},
   "outputs": [
    {
     "name": "stderr",
     "output_type": "stream",
     "text": [
      "/opt/anaconda3/lib/python3.8/site-packages/seaborn/distributions.py:2551: FutureWarning: `distplot` is a deprecated function and will be removed in a future version. Please adapt your code to use either `displot` (a figure-level function with similar flexibility) or `histplot` (an axes-level function for histograms).\n",
      "  warnings.warn(msg, FutureWarning)\n",
      "/opt/anaconda3/lib/python3.8/site-packages/seaborn/distributions.py:2551: FutureWarning: `distplot` is a deprecated function and will be removed in a future version. Please adapt your code to use either `displot` (a figure-level function with similar flexibility) or `histplot` (an axes-level function for histograms).\n",
      "  warnings.warn(msg, FutureWarning)\n",
      "/opt/anaconda3/lib/python3.8/site-packages/seaborn/distributions.py:2551: FutureWarning: `distplot` is a deprecated function and will be removed in a future version. Please adapt your code to use either `displot` (a figure-level function with similar flexibility) or `histplot` (an axes-level function for histograms).\n",
      "  warnings.warn(msg, FutureWarning)\n",
      "/opt/anaconda3/lib/python3.8/site-packages/seaborn/distributions.py:2551: FutureWarning: `distplot` is a deprecated function and will be removed in a future version. Please adapt your code to use either `displot` (a figure-level function with similar flexibility) or `histplot` (an axes-level function for histograms).\n",
      "  warnings.warn(msg, FutureWarning)\n"
     ]
    },
    {
     "data": {
      "image/png": "[encoded data removed]",
      "text/plain": [
       "<Figure size 720x720 with 4 Axes>"
      ]
     },
     "metadata": {
      "needs_background": "light"
     },
     "output_type": "display_data"
    }
   ],
   "source": [
    "# Plotting the distrubtion of word count/char count\n",
    "plt.figure(figsize=(10,10))\n",
    "for i in enumerate(df.columns[9:13]):\n",
    "    plt.subplot(2,2, i[0]+1)\n",
    "    ax = sns.distplot(df[i[1]])\n",
    "    plt.xticks(rotation = 45)\n",
    "    ax.set_title('Density of Word & Character Counts')\n",
    "    plt.tight_layout()"
   ]
  },
  {
   "cell_type": "markdown",
   "metadata": {},
   "source": [
    "This plot shows that most posts on these two subreddits distributions range from around 1-15 words and about 10-60 characters."
   ]
  },
  {
   "cell_type": "markdown",
   "metadata": {},
   "source": [
    "### Setting up data for modeling <a class=\"anchor\" id=\"third-bullet\"></a>"
   ]
  },
  {
   "cell_type": "code",
   "execution_count": 15,
   "metadata": {},
   "outputs": [],
   "source": [
    "X = df['selftext']\n",
    "y = df['subreddit']"
   ]
  },
  {
   "cell_type": "code",
   "execution_count": 16,
   "metadata": {},
   "outputs": [],
   "source": [
    "# Split data into the training and testing sets.\n",
    "X_train1, X_test1, y_train1, y_test1 = train_test_split(X,y,stratify=y)"
   ]
  },
  {
   "cell_type": "code",
   "execution_count": 17,
   "metadata": {},
   "outputs": [],
   "source": [
    "#Instantiate a CountVectorizer with a default hyperparamters\n",
    "\n",
    "cvec = CountVectorizer(stop_words='english')"
   ]
  },
  {
   "cell_type": "code",
   "execution_count": 18,
   "metadata": {},
   "outputs": [],
   "source": [
    "# Fit and transform train\n",
    "\n",
    "X_train1 = cvec.fit_transform(X_train1)\n",
    "\n",
    "# Transform the corpus.\n",
    "\n",
    "X_test1 = cvec.transform(X_test1)"
   ]
  },
  {
   "cell_type": "code",
   "execution_count": 19,
   "metadata": {},
   "outputs": [
    {
     "data": {
      "image/png": "[encoded data removed]",
      "text/plain": [
       "<Figure size 720x720 with 1 Axes>"
      ]
     },
     "metadata": {
      "needs_background": "light"
     },
     "output_type": "display_data"
    }
   ],
   "source": [
    "# Plotting most used words\n",
    "\n",
    "X_train1_df = pd.DataFrame(X_train1.todense(),\n",
    "                         columns = cvec.get_feature_names())\n",
    "\n",
    "plt.figure(figsize=(10,10))\n",
    "X_train1_df.sum().sort_values(ascending=False).head(40).plot(kind='barh');"
   ]
  },
  {
   "cell_type": "markdown",
   "metadata": {},
   "source": [
    "This plot illustrates that the stop words need to be customized in order because words like http, https, www are hyper links that give no distinction between the two subreddits."
   ]
  },
  {
   "cell_type": "code",
   "execution_count": 20,
   "metadata": {},
   "outputs": [],
   "source": [
    "# Creating a list of words to ommit\n",
    "\n",
    "my_words = ['characters', 'good','going','people','want','character','men','http','time','know','think',\n",
    "            'new','reddit','avengers','www','like','just','https','man','com','marvel']\n",
    "\n",
    "# Adding them to stop_words\n",
    "\n",
    "stop_words = text.ENGLISH_STOP_WORDS.union(my_words)"
   ]
  },
  {
   "cell_type": "code",
   "execution_count": 21,
   "metadata": {},
   "outputs": [],
   "source": [
    "# Initialize fresh train and test data\n",
    "\n",
    "X_train, X_test, y_train, y_test = train_test_split(X,y,stratify=y)"
   ]
  },
  {
   "cell_type": "markdown",
   "metadata": {},
   "source": [
    "### Baseline accuracy <a class=\"anchor\" id=\"fourth-bullet\"></a>\n",
    "\n",
    "Calculating the baseline accuracy"
   ]
  },
  {
   "cell_type": "code",
   "execution_count": 25,
   "metadata": {},
   "outputs": [
    {
     "data": {
      "text/plain": [
       "marvelstudios    0.516543\n",
       "Marvel           0.483457\n",
       "Name: subreddit, dtype: float64"
      ]
     },
     "execution_count": 25,
     "metadata": {},
     "output_type": "execute_result"
    }
   ],
   "source": [
    "y_test.value_counts(normalize=True)"
   ]
  },
  {
   "cell_type": "markdown",
   "metadata": {},
   "source": [
    "## Modeling with CountVect and Multinomial Naive Bayes <a class=\"anchor\" id=\"fifth-bullet\"></a>"
   ]
  },
  {
   "cell_type": "markdown",
   "metadata": {},
   "source": [
    "Using CountVectorizer is one of the easier ways to turn X into a numeric dataframe. The function counts each time a token is used."
   ]
  },
  {
   "cell_type": "markdown",
   "metadata": {},
   "source": [
    "Multinomial Naive Bayes relies on the Bayes theorem.\n",
    "$$\n",
    "\\begin{eqnarray*}\n",
    "\\text{Bayes' Theorem: } P(A|B) &=& \\frac{P(B|A)P(A)}{P(B)}\n",
    "\\end{eqnarray*}\n",
    "$$"
   ]
  },
  {
   "cell_type": "markdown",
   "metadata": {},
   "source": [
    "### Let's set a pipeline up with two stages:"
   ]
  },
  {
   "cell_type": "code",
   "execution_count": 27,
   "metadata": {},
   "outputs": [],
   "source": [
    "# 1. CountVectorizer (transformer)\n",
    "# 2. Multinomial Naive Bayes (estimator)\n",
    "\n",
    "pipe = Pipeline([\n",
    "    ('cvect', CountVectorizer()),\n",
    "    ('nb', MultinomialNB())\n",
    "])"
   ]
  },
  {
   "cell_type": "code",
   "execution_count": null,
   "metadata": {},
   "outputs": [],
   "source": [
    "pipe_params = {\n",
    "    'cvect__max_features': [2000, 3000, 4000, 5000], # Capping features\n",
    "    'cvect__min_df': [2, 3], # Word has to show up in more than 2-3 documents\n",
    "    'cvect__max_df': [.9, .95], # Word can't show up in 90% and 95%\n",
    "    'cvect__ngram_range': [(1,1), (1,2)], # 1-gram, 2-gram\n",
    "    'cvect__stop_words': [None, 'english',stop_words], # Using stop_words\n",
    "}"
   ]
  },
  {
   "cell_type": "code",
   "execution_count": 29,
   "metadata": {},
   "outputs": [],
   "source": [
    "# Instantiate GridSearchCV.\n",
    "\n",
    "gs = GridSearchCV(pipe, # what object are we optimizing?\n",
    "                  param_grid=pipe_params, # what parameters values are we searching?\n",
    "                  cv=5, verbose = 1,\n",
    "                 n_jobs = -2) # 5-fold cross-validation."
   ]
  },
  {
   "cell_type": "code",
   "execution_count": 30,
   "metadata": {},
   "outputs": [
    {
     "name": "stdout",
     "output_type": "stream",
     "text": [
      "Fitting 5 folds for each of 32 candidates, totalling 160 fits\n"
     ]
    },
    {
     "name": "stderr",
     "output_type": "stream",
     "text": [
      "[Parallel(n_jobs=-2)]: Using backend LokyBackend with 15 concurrent workers.\n",
      "[Parallel(n_jobs=-2)]: Done  20 tasks      | elapsed:   13.0s\n",
      "[Parallel(n_jobs=-2)]: Done 160 out of 160 | elapsed:  1.4min finished\n"
     ]
    },
    {
     "data": {
      "text/plain": [
       "GridSearchCV(cv=5,\n",
       "             estimator=Pipeline(steps=[('cvect', CountVectorizer()),\n",
       "                                       ('nb', MultinomialNB())]),\n",
       "             n_jobs=-2,\n",
       "             param_grid={'cvect__max_df': [0.9, 0.95],\n",
       "                         'cvect__max_features': [2000, 3000, 4000, 5000],\n",
       "                         'cvect__min_df': [2, 3],\n",
       "                         'cvect__ngram_range': [(1, 1), (1, 2)]},\n",
       "             verbose=1)"
      ]
     },
     "execution_count": 30,
     "metadata": {},
     "output_type": "execute_result"
    }
   ],
   "source": [
    "# Fit GridSearch to training data.\n",
    "\n",
    "gs.fit(X_train, y_train)"
   ]
  },
  {
   "cell_type": "code",
   "execution_count": 31,
   "metadata": {},
   "outputs": [
    {
     "data": {
      "text/plain": [
       "(0.763362713262203, 0.7606679035250464)"
      ]
     },
     "execution_count": 31,
     "metadata": {},
     "output_type": "execute_result"
    }
   ],
   "source": [
    "# Scoring Metrics:\n",
    "\n",
    "\n",
    "# Accuracy scores\n",
    "gs.score(X_train,y_train), gs.score(X_test,y_test)"
   ]
  },
  {
   "cell_type": "code",
   "execution_count": 32,
   "metadata": {},
   "outputs": [
    {
     "data": {
      "text/plain": [
       "0.7551672036912582"
      ]
     },
     "execution_count": 32,
     "metadata": {},
     "output_type": "execute_result"
    }
   ],
   "source": [
    "# Mean of cv scores\n",
    "gs.best_score_"
   ]
  },
  {
   "cell_type": "code",
   "execution_count": 33,
   "metadata": {},
   "outputs": [
    {
     "data": {
      "text/plain": [
       "{'cvect__max_df': 0.9,\n",
       " 'cvect__max_features': 5000,\n",
       " 'cvect__min_df': 3,\n",
       " 'cvect__ngram_range': (1, 1)}"
      ]
     },
     "execution_count": 33,
     "metadata": {},
     "output_type": "execute_result"
    }
   ],
   "source": [
    "# Models favorite params\n",
    "gs.best_params_"
   ]
  },
  {
   "cell_type": "code",
   "execution_count": 34,
   "metadata": {},
   "outputs": [],
   "source": [
    "# Make predictions:\n",
    "\n",
    "gs_y_pred = gs.predict(X_test)"
   ]
  },
  {
   "cell_type": "code",
   "execution_count": 35,
   "metadata": {},
   "outputs": [],
   "source": [
    "# Accuracy matrix\n",
    "\n",
    "gs_tn, gs_fp, gs_fn, gs_tp = confusion_matrix(y_test, gs_y_pred).ravel()"
   ]
  },
  {
   "cell_type": "code",
   "execution_count": 36,
   "metadata": {},
   "outputs": [
    {
     "data": {
      "text/plain": [
       "(1890, 1237, 311, 3030)"
      ]
     },
     "execution_count": 36,
     "metadata": {},
     "output_type": "execute_result"
    }
   ],
   "source": [
    "gs_tn, gs_fp, gs_fn, gs_tp"
   ]
  },
  {
   "cell_type": "code",
   "execution_count": 33,
   "metadata": {},
   "outputs": [
    {
     "data": {
      "image/png": "[encoded data removed]",
      "text/plain": [
       "<Figure size 432x288 with 2 Axes>"
      ]
     },
     "metadata": {
      "needs_background": "light"
     },
     "output_type": "display_data"
    }
   ],
   "source": [
    "plot_confusion_matrix(gs, X_test, y_test, cmap='Blues', values_format='d');"
   ]
  },
  {
   "cell_type": "markdown",
   "metadata": {},
   "source": [
    "#### The CountVectorizer ran with a Multinomial Naive Bayes model has an accuracy score of 76.3% and 76.1% which is a decently fit model and produces high number of Type I errors depicted in the confusion matrix above. The model performs semi-well with predictions on the test data."
   ]
  },
  {
   "cell_type": "markdown",
   "metadata": {},
   "source": [
    "## Modeling with TfidfVect and Logistic Regression <a class=\"anchor\" id=\"sixth-bullet\"></a>"
   ]
  },
  {
   "cell_type": "code",
   "execution_count": 88,
   "metadata": {},
   "outputs": [],
   "source": [
    "# 1. TfidfVectorizer (transformer)\n",
    "# 2. Logistic Regression (estimator)\n",
    "\n",
    "\n",
    "pipey = Pipeline([\n",
    "    ('tvec', TfidfVectorizer()),\n",
    "    ('logreg', LogisticRegression())\n",
    "])"
   ]
  },
  {
   "cell_type": "code",
   "execution_count": 89,
   "metadata": {},
   "outputs": [],
   "source": [
    "pipe_tvec_params = {\n",
    "    'tvec__max_features': [3_000, 4_000, 5_000],\n",
    "    'tvec__stop_words': [None, 'english',stop_words],\n",
    "    'tvec__ngram_range': [(1,1), (1,2)],\n",
    "    'tvec__max_df': [.9, .92],\n",
    "    'tvec__min_df': [2,4],\n",
    "    'logreg__C': np.linspace(0.00001,2,10),\n",
    "    'logreg__penalty': ['l1', 'l2']\n",
    "}"
   ]
  },
  {
   "cell_type": "code",
   "execution_count": 90,
   "metadata": {},
   "outputs": [],
   "source": [
    "# Instantiate GridSearchCV.\n",
    "\n",
    "gsv = GridSearchCV(pipey, # what object are we optimizing?\n",
    "                  param_grid=pipe_tvec_params, # what parameters values are we searching?\n",
    "                  cv=5, verbose = 1,\n",
    "                 n_jobs = -1) # 5-fold cross-validation."
   ]
  },
  {
   "cell_type": "code",
   "execution_count": 91,
   "metadata": {},
   "outputs": [
    {
     "name": "stdout",
     "output_type": "stream",
     "text": [
      "Fitting 5 folds for each of 1440 candidates, totalling 7200 fits\n"
     ]
    },
    {
     "name": "stderr",
     "output_type": "stream",
     "text": [
      "[Parallel(n_jobs=-1)]: Using backend LokyBackend with 16 concurrent workers.\n",
      "[Parallel(n_jobs=-1)]: Done  18 tasks      | elapsed:   10.8s\n",
      "[Parallel(n_jobs=-1)]: Done 168 tasks      | elapsed:  1.1min\n",
      "[Parallel(n_jobs=-1)]: Done 418 tasks      | elapsed:  2.5min\n",
      "[Parallel(n_jobs=-1)]: Done 768 tasks      | elapsed:  4.8min\n",
      "[Parallel(n_jobs=-1)]: Done 1218 tasks      | elapsed:  7.5min\n",
      "[Parallel(n_jobs=-1)]: Done 1768 tasks      | elapsed: 10.8min\n",
      "[Parallel(n_jobs=-1)]: Done 2418 tasks      | elapsed: 14.9min\n",
      "[Parallel(n_jobs=-1)]: Done 3168 tasks      | elapsed: 19.8min\n",
      "[Parallel(n_jobs=-1)]: Done 4018 tasks      | elapsed: 25.4min\n",
      "[Parallel(n_jobs=-1)]: Done 4968 tasks      | elapsed: 32.0min\n",
      "[Parallel(n_jobs=-1)]: Done 6018 tasks      | elapsed: 39.0min\n",
      "[Parallel(n_jobs=-1)]: Done 7168 tasks      | elapsed: 46.7min\n",
      "[Parallel(n_jobs=-1)]: Done 7200 out of 7200 | elapsed: 46.9min finished\n"
     ]
    },
    {
     "data": {
      "text/plain": [
       "GridSearchCV(cv=5,\n",
       "             estimator=Pipeline(steps=[('tvec', TfidfVectorizer()),\n",
       "                                       ('logreg', LogisticRegression())]),\n",
       "             n_jobs=-1,\n",
       "             param_grid={'logreg__C': array([1.00000000e-05, 2.22231111e-01, 4.44452222e-01, 6.66673333e-01,\n",
       "       8.88894444e-01, 1.11111556e+00, 1.33333667e+00, 1.55555778e+00,\n",
       "       1.77777889e+00, 2.00000000e+00]),\n",
       "                         'logreg__penalty': ['l1', 'l2'],\n",
       "                         'tvec__max_df': [0.9, 0....\n",
       "                         'tvec__ngram_range': [(1, 1), (1, 2)],\n",
       "                         'tvec__stop_words': [None, 'english',\n",
       "                                              frozenset({'a', 'about', 'above',\n",
       "                                                         'across', 'after',\n",
       "                                                         'afterwards', 'again',\n",
       "                                                         'against', 'all',\n",
       "                                                         'almost', 'alone',\n",
       "                                                         'along', 'already',\n",
       "                                                         'also', 'although',\n",
       "                                                         'always', 'am',\n",
       "                                                         'among', 'amongst',\n",
       "                                                         'amoungst', 'amount',\n",
       "                                                         'an', 'and', 'another',\n",
       "                                                         'any', 'anyhow',\n",
       "                                                         'anyone', 'anything',\n",
       "                                                         'anyway', 'anywhere', ...})]},\n",
       "             verbose=1)"
      ]
     },
     "execution_count": 91,
     "metadata": {},
     "output_type": "execute_result"
    }
   ],
   "source": [
    "# Fit and wait\n",
    "\n",
    "gsv.fit(X_train,y_train)"
   ]
  },
  {
   "cell_type": "code",
   "execution_count": 92,
   "metadata": {},
   "outputs": [
    {
     "data": {
      "text/plain": [
       "0.7894442658789715"
      ]
     },
     "execution_count": 92,
     "metadata": {},
     "output_type": "execute_result"
    }
   ],
   "source": [
    "# Scoring Metrics:\n",
    "\n",
    "gsv.best_score_"
   ]
  },
  {
   "cell_type": "code",
   "execution_count": 93,
   "metadata": {},
   "outputs": [
    {
     "data": {
      "text/plain": [
       "{'logreg__C': 0.4444522222222222,\n",
       " 'logreg__penalty': 'l2',\n",
       " 'tvec__max_df': 0.9,\n",
       " 'tvec__max_features': 5000,\n",
       " 'tvec__min_df': 2,\n",
       " 'tvec__ngram_range': (1, 2),\n",
       " 'tvec__stop_words': 'english'}"
      ]
     },
     "execution_count": 93,
     "metadata": {},
     "output_type": "execute_result"
    }
   ],
   "source": [
    "# The models favorite params\n",
    "gsv.best_params_"
   ]
  },
  {
   "cell_type": "code",
   "execution_count": 94,
   "metadata": {},
   "outputs": [
    {
     "data": {
      "text/plain": [
       "(0.8219163960620587, 0.7956091527520099)"
      ]
     },
     "execution_count": 94,
     "metadata": {},
     "output_type": "execute_result"
    }
   ],
   "source": [
    "# Acurracy Scores\n",
    "gsv.score(X_train,y_train), gsv.score(X_test,y_test)"
   ]
  },
  {
   "cell_type": "code",
   "execution_count": 95,
   "metadata": {},
   "outputs": [
    {
     "data": {
      "image/png": "[encoded data removed]",
      "text/plain": [
       "<Figure size 432x288 with 2 Axes>"
      ]
     },
     "metadata": {
      "needs_background": "light"
     },
     "output_type": "display_data"
    }
   ],
   "source": [
    "# Plot Confusion Matrix for SVM Model\n",
    "\n",
    "plot_confusion_matrix(gsv, X_test, y_test, cmap='Blues', values_format='d');"
   ]
  },
  {
   "cell_type": "code",
   "execution_count": 96,
   "metadata": {},
   "outputs": [],
   "source": [
    "# Make Predictions\n",
    "\n",
    "gsv_y_pred = gsv.predict(X_test)"
   ]
  },
  {
   "cell_type": "code",
   "execution_count": 97,
   "metadata": {},
   "outputs": [],
   "source": [
    "# Confusion Matrix\n",
    "\n",
    "gsv_tn, gsv_fp, gsv_fn, gsv_tp = confusion_matrix(y_test, gsv_y_pred).ravel()"
   ]
  },
  {
   "cell_type": "code",
   "execution_count": 98,
   "metadata": {},
   "outputs": [
    {
     "data": {
      "text/plain": [
       "(2199, 928, 394, 2947)"
      ]
     },
     "execution_count": 98,
     "metadata": {},
     "output_type": "execute_result"
    }
   ],
   "source": [
    "gsv_tn, gsv_fp, gsv_fn, gsv_tp"
   ]
  },
  {
   "cell_type": "markdown",
   "metadata": {},
   "source": [
    "#### TfdifVectorizer ran with a Logistic Regression actually improves the score and is the better of the two models. TfidfVectorizer uses a score of each vectorized word instead of getting a count like with CountVectorizer. Logistic Regression generates the coefficients of a formula to predict a logit transformation of the probability. Of the two models LogisticRegression scores 82.1% on train data and 79.5% on testing data. This model effective reduces predictive errors."
   ]
  },
  {
   "cell_type": "markdown",
   "metadata": {},
   "source": [
    "## Executive Summary <a class=\"anchor\" id=\"seventh-bullet\"></a>"
   ]
  },
  {
   "cell_type": "markdown",
   "metadata": {},
   "source": [
    "#### Between the two models, TfdifVectorizer ran with a Logistic Regression improves the accuracy scores on test data with a slight bit of overfitting on train data. The CountVectorizer ran with Naive Bayes runs very similarly across test and training data but is less accurate. TfdifVectorizer ran with Logistic Regression would be the model of choice with significantly low runtime."
   ]
  }
 ],
 "metadata": {
  "kernelspec": {
   "display_name": "Python 3",
   "language": "python",
   "name": "python3"
  },
  "language_info": {
   "codemirror_mode": {
    "name": "ipython",
    "version": 3
   },
   "file_extension": ".py",
   "mimetype": "text/x-python",
   "name": "python",
   "nbconvert_exporter": "python",
   "pygments_lexer": "ipython3",
   "version": "3.8.5"
  }
 },
 "nbformat": 4,
 "nbformat_minor": 4
}
